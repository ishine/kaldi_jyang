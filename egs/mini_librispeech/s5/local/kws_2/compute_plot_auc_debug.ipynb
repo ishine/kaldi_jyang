{
 "cells": [
  {
   "cell_type": "code",
   "execution_count": null,
   "metadata": {},
   "outputs": [],
   "source": [
    "# In this version, the label is created as follow:\n",
    "# For each word in the reference, find the time overlap term in hyp.\n",
    "# If it is the same word, label as 1, otherwise label as 0.\n",
    "# For each instance of ref word, if none match word and time are found,\n",
    "# label as \"1\" and prob as \"0.0\".\n",
    "# Compared to v2, fix the issue that ref word instance is only compared\n",
    "# with each hyp word, not entire hyp words at current time frame."
   ]
  },
  {
   "cell_type": "code",
   "execution_count": 1,
   "metadata": {},
   "outputs": [],
   "source": [
    "import sys\n",
    "import numpy as np\n",
    "from operator import itemgetter\n",
    "import matplotlib.pyplot as plt\n",
    "from sklearn.metrics import precision_recall_curve, auc, ranking"
   ]
  },
  {
   "cell_type": "code",
   "execution_count": 2,
   "metadata": {},
   "outputs": [],
   "source": [
    "def compute_overlap(period1, period2):\n",
    "    '''Compute the overlap percentage between two periods.\n",
    "    Args:\n",
    "    period1: list of [stime, etime], dtype=float\n",
    "    period2: list of [stime, etime], dtype=float\n",
    "    '''\n",
    "    if (period2[1] - period1[0]) * (period1[1] - period2[0]) >= 0:\n",
    "    # Overlap\n",
    "        stime = max(period1[0], period2[0])\n",
    "        etime = min(period1[1], period2[1])\n",
    "        return (etime - stime) / (period1[1] - period1[0])\n",
    "    else:\n",
    "        return 0.\n",
    "\n",
    "def check_duplicates(stored, current):\n",
    "    '''Check if there are time overlap between the current word and \n",
    "    those alreay stored in list. If so only keep the one with largest probability.   \n",
    "    Args:\n",
    "    stored: [[begin_frame, duration, probability], [...], ...]\n",
    "    current: [begin_frame, duration, probability]\n",
    "    '''         \n",
    "    overlap_flag = 1            \n",
    "    update_stored = []\n",
    "    for i, token in enumerate(stored):\n",
    "        overlap = compute_overlap([token[0], token[1]], \n",
    "                                  [current[0], current[1]])\n",
    "        if overlap > 0.:\n",
    "            if token[2] >= current[2]:\n",
    "                overlap_flag = 0\n",
    "                update_stored.append(token)\n",
    "        else:\n",
    "            update_stored.append(token)\n",
    "    if overlap_flag == 1:\n",
    "        update_stored.append(current)\n",
    "    return update_stored\n",
    "            \n",
    "def read_lattice_post(fname, chain_model_lats=False):\n",
    "    dict_utt = {}\n",
    "    with open(fname, 'r') as fid:\n",
    "        for line in fid.readlines():\n",
    "            tokens = line.strip().split()\n",
    "            uttid = tokens.pop(0)\n",
    "            tokens = [float(i) for i in tokens[:4]]\n",
    "            word = str(int(tokens[3]))\n",
    "            tokens[1] = tokens[0] + tokens[1]\n",
    "            if chain_model_lats:\n",
    "                tokens[0] *= 3\n",
    "                tokens[1] *= 3\n",
    "            if uttid in dict_utt.keys():\n",
    "                if word in dict_utt[uttid].keys():\n",
    "                    #dict_utt[uttid][word].append(tokens[:3])\n",
    "                    dict_utt[uttid][word] = check_duplicates(dict_utt[uttid][word], tokens[:3])\n",
    "                else:\n",
    "                    dict_utt[uttid][word] = [tokens[:3]]\n",
    "            else:\n",
    "                dict_utt[uttid] = {}\n",
    "                dict_utt[uttid][word] = [tokens[:3]]\n",
    "            \n",
    "    return dict_utt\n",
    "\n",
    "def detect(ref_words_info, hyp_words_info, uttid, result_fid, overlap_thres=.5):\n",
    "    '''Search reference word instance in all hypotheses and find matches in word-type and time.\n",
    "    Both lists contains same words.\n",
    "    If both match, print ref_word, 1, and hyp_probability;\n",
    "    if only time matches, print ref_word, 0 and hyp_probability;\n",
    "    otherwise return nothing.\n",
    "    Args:\n",
    "    ref_words_info: (ref_word: [begin_time, duration, probability])\n",
    "    hyp_words_info: {hyp_word: [[begin_time, duration, probability], ...]}\n",
    "    Return:\n",
    "    results: List of results, format like\n",
    "            e.g, [[ref_word, 1, hyp_prob], [ref_word, 0, hyp_prob], ...]\n",
    "    '''\n",
    "    ref_word, ref_info = ref_words_info[0], ref_words_info[1]\n",
    "    hyp_word, hyp_instances = hyp_words_info[0], hyp_words_info[1]\n",
    "    ref_period = [ref_info[0], ref_info[1]]\n",
    "    label = None\n",
    "    detect_flag = 0\n",
    "    for hyp in hyp_instances:\n",
    "        hyp_period = [hyp[0], hyp[1]]\n",
    "        if compute_overlap(ref_period, hyp_period) >= overlap_thres:\n",
    "            detect_flag = 1\n",
    "            if hyp_word == ref_word:\n",
    "                label = 1\n",
    "            else:\n",
    "                label = 0\n",
    "            print(f'{uttid} {ref_word} {label} {hyp[2]}', file=result_fid)\n",
    "    return detect_flag\n",
    "\n",
    "def compute_search_results(dict_ref, dict_hyp, result_fname,\n",
    "                           word_count_fname, overlap_thres=.5):\n",
    "    ref_word_counts = {}\n",
    "    result_fid = open(result_fname, 'w')\n",
    "    for uttid in dict_ref.keys():\n",
    "        if uttid not in dict_hyp.keys():\n",
    "            print(f\"Utterance {uttid} does not exist in hypotheses !\", \n",
    "                  file=sys.stderr)\n",
    "            continue\n",
    "        #if '0' in dict_ref[uttid].keys():\n",
    "        #    dict_ref[uttid].pop('0')\n",
    "        all_ref_words = dict_ref[uttid]\n",
    "        all_hyp_words = dict_hyp[uttid]\n",
    "        search_results = {}\n",
    "        for refs in all_ref_words.items(): # refs: (word, [[bt1, et1, prob1], [bt2, et2, prob2], ...])\n",
    "            if not refs[0] in ref_word_counts.keys():\n",
    "                ref_word_counts[refs[0]] = len(refs[1])\n",
    "            else:\n",
    "                ref_word_counts[refs[0]] += len(refs[1])\n",
    "            for ref_instance in refs[1]:\n",
    "                ref_item = (refs[0], ref_instance)\n",
    "                detect_flag = 0\n",
    "                for hyp in all_hyp_words.items():\n",
    "                    detect_flag += detect(ref_words_info=ref_item, hyp_words_info=hyp, \n",
    "                                         uttid=uttid, result_fid=result_fid,\n",
    "                                         overlap_thres=overlap_thres)\n",
    "                if detect_flag == 0:\n",
    "                    print(f'{uttid} {refs[0]} 1 -1.', file=result_fid)\n",
    "    result_fid.close()\n",
    "    word_count_fid = open(word_count_fname, 'w')\n",
    "    for word, word_count in ref_word_counts.items():\n",
    "        print(f'Word-id= {word} counts= {word_count}', file=word_count_fid)\n",
    "    word_count_fid.close()\n",
    "\n",
    "def read_search_results(result_fname):\n",
    "    '''Read search results file and store the results for each word in reference.'''\n",
    "    dict_ref_words_labels = {}\n",
    "    dict_ref_words_scores = {}\n",
    "    with open(result_fname, 'r') as fid:\n",
    "        for line in fid.readlines():\n",
    "            tokens = line.strip().split()\n",
    "            uttid = tokens.pop(0)\n",
    "            ref_word = tokens[0]\n",
    "            label = int(tokens[1])\n",
    "            score = float(tokens[2])\n",
    "            if ref_word in dict_ref_words_labels.keys():\n",
    "                dict_ref_words_labels[ref_word].append(label)\n",
    "                dict_ref_words_scores[ref_word].append(score)\n",
    "            else:\n",
    "                dict_ref_words_labels[ref_word] = [label]\n",
    "                dict_ref_words_scores[ref_word] = [score]\n",
    "    return dict_ref_words_labels, dict_ref_words_scores"
   ]
  },
  {
   "cell_type": "markdown",
   "metadata": {},
   "source": [
    "### Compute det / roc"
   ]
  },
  {
   "cell_type": "code",
   "execution_count": 3,
   "metadata": {},
   "outputs": [],
   "source": [
    "def my_ComputePrecisionRecall(scores, labels):\n",
    "    thresholds = sorted(list(set(scores)))\n",
    "    #print(thresholds)\n",
    "    precisions = []\n",
    "    recalls = []\n",
    "    num_true = sum(labels)\n",
    "    for thre in thresholds:\n",
    "        fn = 0\n",
    "        fp = 0\n",
    "        tp = 0\n",
    "        for idx, score in enumerate(scores):\n",
    "            if score >= thre:\n",
    "                if labels[idx] == 1:\n",
    "                    if score > 0.:\n",
    "                        tp += 1\n",
    "                    #else:\n",
    "                    #    fn += 1\n",
    "                else:\n",
    "                    fp += 1\n",
    "            elif labels[idx] == 1:\n",
    "                fn += 1\n",
    "        if tp+fp != 0:\n",
    "            precisions.append(tp/(tp+fp))\n",
    "            #recalls.append(tp/(tp+fn)) \n",
    "            recalls.append(tp/num_true)\n",
    "        else:\n",
    "            print('tp + fp is 0 !')\n",
    "    auc = np.abs(np.trapz(precisions, recalls))\n",
    "    return precisions, recalls, auc, thresholds\n"
   ]
  },
  {
   "cell_type": "code",
   "execution_count": null,
   "metadata": {},
   "outputs": [],
   "source": [
    "def debug_tp(debug_fhandle, word, scores, labels):\n",
    "\n",
    "      # Sort the scores from smallest to largest, and also get the corresponding\n",
    "      # indexes of the sorted scores.  We will treat the sorted scores as the\n",
    "      # thresholds at which the the error-rates are evaluated.\n",
    "    sorted_indexes, thresholds = zip(*sorted(\n",
    "          [(index, threshold) for index, threshold in enumerate(scores)],\n",
    "          key=itemgetter(1)))\n",
    "    labels = [labels[i] for i in sorted_indexes]\n",
    "    fn = []\n",
    "    for i in range(0, len(labels)):\n",
    "        if i == 0:\n",
    "            fn.append(labels[i])\n",
    "        else:\n",
    "            fn.append(fn[i-1] + labels[i])\n",
    "    fn_norm = sum(labels)\n",
    "    tp = [fn_norm - x for x in fn]\n",
    "    print(f'Word-id= {word} max_tp= {max(tp)}', file=debug_fhandle)\n",
    "    "
   ]
  },
  {
   "cell_type": "code",
   "execution_count": null,
   "metadata": {},
   "outputs": [],
   "source": [
    "def ComputeEER(scores, labels):\n",
    "\n",
    "      # Sort the scores from smallest to largest, and also get the corresponding\n",
    "      # indexes of the sorted scores.  We will treat the sorted scores as the\n",
    "      # thresholds at which the the error-rates are evaluated.\n",
    "    sorted_indexes, thresholds = zip(*sorted(\n",
    "          [(index, threshold) for index, threshold in enumerate(scores)],\n",
    "          key=itemgetter(1)))\n",
    "    labels = [labels[i] for i in sorted_indexes]\n",
    "    fn = []\n",
    "    tn = []\n",
    "      # At the end of this loop, fn[i] is the number of errors made by\n",
    "      # incorrectly rejecting scores less than thresholds[i]. And, tn[i]\n",
    "      # is the total number of times that we have correctly rejected scores\n",
    "      # less than thresholds[i].\n",
    "    for i in range(0, len(labels)):\n",
    "        if i == 0:\n",
    "            fn.append(labels[i])\n",
    "            tn.append(1 - labels[i])\n",
    "        else:\n",
    "            fn.append(fn[i-1] + labels[i])\n",
    "            tn.append(tn[i-1] + 1 - labels[i])\n",
    "    fn_norm = sum(labels)\n",
    "    tn_norm = len(labels) - fn_norm\n",
    "    fp = [tn_norm - x for x in tn]\n",
    "    fprs = np.array([x / tn_norm for x in fp])\n",
    "    fnrs = np.array([x / fn_norm for x in fn])\n",
    "    eer = fprs[np.nanargmin(np.absolute(fnrs - fprs))]\n",
    "\n",
    "    # Compute precision and recall rate.\n",
    "    #auc = np.abs(np.trapz(precision, recall))\n",
    "    return fprs, fnrs, eer\n"
   ]
  },
  {
   "cell_type": "code",
   "execution_count": 4,
   "metadata": {},
   "outputs": [],
   "source": [
    "def filter_score(labels, scores):\n",
    "    filt_labs = []\n",
    "    filt_scores = []\n",
    "    for i, j in enumerate(scores):\n",
    "        if j >= 0:\n",
    "            filt_labs.append(labels[i])\n",
    "            filt_scores.append(j)\n",
    "    return(filt_labs, filt_scores)"
   ]
  },
  {
   "cell_type": "code",
   "execution_count": 37,
   "metadata": {},
   "outputs": [],
   "source": [
    "def ComputePrecisionRecall(scores, labels):\n",
    "\n",
    "      # Sort the scores from smallest to largest, and also get the corresponding\n",
    "      # indexes of the sorted scores.  We will treat the sorted scores as the\n",
    "      # thresholds at which the the error-rates are evaluated.\n",
    "    sorted_indexes, thresholds = zip(*sorted(\n",
    "          [(index, threshold) for index, threshold in enumerate(scores)],\n",
    "          key=itemgetter(1)))\n",
    "    labels = [labels[i] for i in sorted_indexes]\n",
    "    fn = []\n",
    "    tn = []\n",
    "    precision = []\n",
    "    recall = []\n",
    "    miss_counts = sum(np.array(thresholds) == -1.)\n",
    "    fn = [1] * miss_counts\n",
    "    tn = [0] * miss_counts\n",
    "      # At the end of this loop, fn[i] is the number of errors made by\n",
    "      # incorrectly rejecting scores less than thresholds[i]. And, tn[i]\n",
    "      # is the total number of times that we have correctly rejected scores\n",
    "      # less than thresholds[i].\n",
    "    for i in range(miss_counts, len(labels)):\n",
    "        if i == miss_counts:\n",
    "            fn.append(labels[i])\n",
    "            tn.append(1 - labels[i])\n",
    "        else:\n",
    "            #fn.append(fn[i-1] + labels[i])\n",
    "            #tn.append(tn[i-1] + 1 - labels[i])\n",
    "            fn.append(fn[i-1] + labels[i])\n",
    "            tn.append(tn[i-1] + 1 - labels[i])\n",
    "        #print('score ', thresholds[i], 'fn ', fn[i], 'tn ', tn[i])\n",
    "    fn_norm = sum(labels)\n",
    "    tn_norm = len(labels) - fn_norm\n",
    "\n",
    "    tp = [fn_norm - x for x in fn]\n",
    "    fp = [tn_norm - x for x in tn]\n",
    "    tp = tp[miss_counts:]\n",
    "    fp = fp[miss_counts:]\n",
    "    print(max(tp), fn_norm, miss_counts, len(thresholds))\n",
    "    # Compute precision and recall rate.\n",
    "    for i, j in enumerate(tp):\n",
    "        tp_norm = float(tp[i] + fp[i])\n",
    "        if tp_norm > 0 :\n",
    "            precision.append(tp[i] / tp_norm)\n",
    "            recall.append(tp[i] / fn_norm)\n",
    "    precision = precision[miss_counts:]\n",
    "    recall = recall[miss_counts:]\n",
    "    auc = np.abs(np.trapz(precision, recall))\n",
    "    print(len(precision))\n",
    "    return precision, recall, auc\n"
   ]
  },
  {
   "cell_type": "code",
   "execution_count": null,
   "metadata": {},
   "outputs": [],
   "source": [
    "ref_lats_file = '/export/b07/jyang/kaldi-jyang/kaldi/egs/mini_librispeech/s5/debug_ali.post'\n",
    "hyp_lats_file = '/export/b07/jyang/kaldi-jyang/kaldi/egs/mini_librispeech/s5/debug_chain.post'\n",
    "result_fname = './debug_search_results.txt'\n",
    "ref_count_fname = './debug_ref_counts.txt'\n",
    "auc_fname = './debug_auc.txt'\n",
    "dict_ref = read_lattice_post(ref_lats_file)\n",
    "dict_hyp = read_lattice_post(hyp_lats_file, chain_model_lats=True)\n",
    "ref_utts = list(dict_ref.keys())\n",
    "hyp_utts = list(dict_hyp.keys())\n"
   ]
  },
  {
   "cell_type": "markdown",
   "metadata": {},
   "source": [
    "### Read files"
   ]
  },
  {
   "cell_type": "code",
   "execution_count": 5,
   "metadata": {},
   "outputs": [],
   "source": [
    "ref_lats_file = '/export/b07/jyang/kaldi-jyang/kaldi/egs/mini_librispeech/s5/test_data_dir/dev_ali_all_1best_word.post'\n",
    "hyp_lats_file = '/export/b07/jyang/kaldi-jyang/kaldi/egs/mini_librispeech/s5/test_data_dir/dev_chain_word_all.post'\n",
    "result_fname = './test_data_dir/results_v3/search_results.txt'\n",
    "ref_count_fname = './test_data_dir/results_v3/ref_word_counts.txt'\n",
    "auc_fname = './test_data_dir/results_v3/auc.txt'\n",
    "dict_ref = read_lattice_post(ref_lats_file)\n",
    "dict_hyp = read_lattice_post(hyp_lats_file, chain_model_lats=True)\n",
    "ref_utts = list(dict_ref.keys())\n",
    "hyp_utts = list(dict_hyp.keys())\n"
   ]
  },
  {
   "cell_type": "code",
   "execution_count": 144,
   "metadata": {},
   "outputs": [
    {
     "name": "stdout",
     "output_type": "stream",
     "text": [
      "[[274.0, 321.0, 0.9999466]] \n",
      "\n",
      "{'0': [[0.0, 27.0, 1.0], [375.0, 423.0, 1.0]], '175861': [[27.0, 42.0, 1.0]], '95318': [[42.0, 84.0, 0.7863647]], '89394': [[84.0, 96.0, 0.01143935]], '8537': [[87.0, 96.0, 0.7467058]], '2578': [[84.0, 96.0, 0.09778267]], '63571': [[96.0, 135.0, 0.0218526]], '63573': [[96.0, 135.0, 0.8457684]], '4': [[84.0, 87.0, 0.7863622]], '176496': [[135.0, 156.0, 0.9320105]], '5411': [[126.0, 135.0, 0.01608645], [195.0, 207.0, 0.9648454]], '47083': [[126.0, 138.0, 0.008067208]], '73946': [[156.0, 195.0, 0.0009835883]], '73509': [[156.0, 195.0, 0.002875167]], '86219': [[195.0, 207.0, 0.01446599]], '73493': [[156.0, 195.0, 0.001413355]], '73460': [[156.0, 195.0, 0.001127314]], '87723': [[195.0, 207.0, 0.001127325]], '72810': [[156.0, 207.0, 0.01278264]], '198774': [[207.0, 225.0, 0.9707339]], '66178': [[225.0, 267.0, 0.003483429]], '66188': [[225.0, 267.0, 0.7546773]], '72784': [[156.0, 195.0, 0.0004985328]], '39685': [[156.0, 195.0, 0.9649065]], '65493': [[225.0, 267.0, 0.0001257261]], '126098': [[267.0, 279.0, 0.2173115]], '84765': [[279.0, 300.0, 0.7776421]], '25912': [[300.0, 321.0, 0.7776421]], '7589': [[267.0, 279.0, 0.7758871]], '64424': [[321.0, 339.0, 1.0]], '198712': [[339.0, 375.0, 1.0]]}\n"
     ]
    }
   ],
   "source": [
    "print(dict_ref['1272-135031-0004']['8828'], '\\n')\n",
    "print(dict_hyp['1272-135031-0004'])"
   ]
  },
  {
   "cell_type": "markdown",
   "metadata": {},
   "source": [
    "### Search"
   ]
  },
  {
   "cell_type": "code",
   "execution_count": 6,
   "metadata": {},
   "outputs": [],
   "source": [
    "compute_search_results(dict_ref=dict_ref, dict_hyp=dict_hyp,\n",
    "                       result_fname=result_fname,\n",
    "                       word_count_fname=ref_count_fname)\n",
    "dict_ref_words_labels, dict_ref_words_scores = read_search_results(result_fname)\n",
    "result_keys = list(dict_ref_words_labels.keys())"
   ]
  },
  {
   "cell_type": "code",
   "execution_count": 7,
   "metadata": {},
   "outputs": [],
   "source": [
    "all_labels = []\n",
    "all_scores = []\n",
    "for k in dict_ref_words_labels.keys():\n",
    "    all_labels += dict_ref_words_labels[k]\n",
    "    all_scores += dict_ref_words_scores[k]"
   ]
  },
  {
   "cell_type": "code",
   "execution_count": 8,
   "metadata": {},
   "outputs": [],
   "source": [
    "filt_labs, filt_scores = filter_score(labels=all_labels, scores=all_scores)"
   ]
  },
  {
   "cell_type": "markdown",
   "metadata": {},
   "source": [
    "### Compute AUC"
   ]
  },
  {
   "cell_type": "code",
   "execution_count": 38,
   "metadata": {},
   "outputs": [
    {
     "name": "stdout",
     "output_type": "stream",
     "text": [
      "21186 21186 151 35144\n",
      "34842\n"
     ]
    },
    {
     "data": {
      "image/png": "[encoded data removed]",
      "text/plain": [
       "<Figure size 432x288 with 1 Axes>"
      ]
     },
     "metadata": {},
     "output_type": "display_data"
    }
   ],
   "source": [
    "prec, rec, auc = ComputePrecisionRecall(scores=all_scores, \n",
    "                            labels=all_labels)\n",
    "plt.plot(rec, prec, color='b', linestyle='dotted')\n",
    "plt.text(.8, .1, f'AUC = {auc:.3f}', color='r')\n",
    "plt.ylabel('Precision')\n",
    "plt.xlabel('Recall')\n",
    "plt.xlim([-0.01, 1.0])\n",
    "plt.ylim([0, 1.02])\n",
    "#plt.savefig('./test_data_dir/results_v3/precision_recall_kaldi.jpg')\n",
    "plt.show()\n"
   ]
  },
  {
   "cell_type": "code",
   "execution_count": null,
   "metadata": {},
   "outputs": [],
   "source": [
    "fprs, fnrs, eer = ComputeEER(scores=all_scores, \n",
    "                            labels=all_labels)\n",
    "plt.plot(fprs, fnrs, color='b', linestyle='dotted')\n",
    "plt.text(eer, eer, f'EER={eer:.3f}')\n",
    "x = np.arange(0, 100, 1)\n",
    "plt.plot(x, x, color='r', linestyle='dotted')\n",
    "plt.xlabel('False postive')\n",
    "plt.ylabel('False negative')\n",
    "plt.xlim([0, 1.01])\n",
    "plt.ylim([0, 1.01])\n",
    "#plt.savefig('./test_data_dir/results_v3/eer_kaldi.jpg')\n",
    "plt.show()"
   ]
  },
  {
   "cell_type": "code",
   "execution_count": 136,
   "metadata": {},
   "outputs": [],
   "source": [
    "my_prec, my_rec, my_auc, my_thres = my_ComputePrecisionRecall(scores=filt_scores,\n",
    "                            labels=filt_labs)"
   ]
  },
  {
   "cell_type": "code",
   "execution_count": 72,
   "metadata": {},
   "outputs": [
    {
     "data": {
      "image/png": "[encoded data removed]",
      "text/plain": [
       "<Figure size 432x288 with 1 Axes>"
      ]
     },
     "metadata": {},
     "output_type": "display_data"
    }
   ],
   "source": [
    "plt.plot(my_rec, my_prec, color='b', linestyle='solid')\n",
    "plt.ylabel('Precision')\n",
    "plt.xlabel('Recall')\n",
    "plt.xlim([0, 1.0])\n",
    "plt.ylim([0, 1.01])\n",
    "min_rec = np.arange(0, max(my_prec), .01)\n",
    "max_rec = np.arange(0, min(my_prec), .01)\n",
    "max_prec = np.arange(0, min(my_rec), .01)\n",
    "plt.plot([min(my_rec)] * len(min_rec), min_rec, linestyle='dotted', color='r')\n",
    "plt.plot([max(my_rec)] * len(max_rec), max_rec, linestyle='dotted', color='r')\n",
    "#plt.plot(max_prec, [max(my_prec)] * len(max_prec), linestyle='dotted', color='r')\n",
    "plt.text(.8, .9, f'AUC = {my_auc:.3f}', color='r')\n",
    "plt.text(min(my_rec), .06, f'{min(my_rec):.3f}', color='r')\n",
    "plt.text(max(my_rec)-.1, .06, f'{max(my_rec):.3f}', color='r')\n",
    "#plt.savefig('./test_data_dir/results_v3/precision_recall_mine_script.jpg')\n",
    "plt.show()"
   ]
  },
  {
   "cell_type": "markdown",
   "metadata": {},
   "source": [
    "### Sklearn precison-recall curve"
   ]
  },
  {
   "cell_type": "code",
   "execution_count": 139,
   "metadata": {},
   "outputs": [
    {
     "data": {
      "image/png": "[encoded data removed]",
      "text/plain": [
       "<Figure size 432x288 with 1 Axes>"
      ]
     },
     "metadata": {},
     "output_type": "display_data"
    }
   ],
   "source": [
    "sk_prec, sk_rec, sk_thres = precision_recall_curve(filt_labs, filt_scores)\n",
    "sk_new_rec = sk_rec * sum(filt_labs) / sum(all_labels)\n",
    "max_sk_rec = np.arange(0, min(sk_prec), .01)\n",
    "sk_prec = sk_prec[:-1]\n",
    "sk_new_rec = sk_new_rec[:-1]\n",
    "sk_auc = np.abs(np.trapz(sk_prec, sk_new_rec))\n",
    "\n",
    "min_sk_rec = np.arange(0, max(sk_prec), .01)\n",
    "plt.plot([min(sk_new_rec)] * len(min_sk_rec), min_sk_rec, linestyle='dotted', color='r')\n",
    "plt.plot([max(sk_new_rec)] * len(max_sk_rec), max_sk_rec, linestyle='dotted', color='r')\n",
    "plt.text(.8, .9, f'AUC = {sk_auc:.3f}', color='r')\n",
    "plt.text(max(sk_new_rec)-.1, .06, f'{max(sk_new_rec):.3f}', color='r')\n",
    "#plt.text(min(sk_new_rec), .06, f'{min(sk_new_rec):.3f}', color='r')\n",
    "\n",
    "plt.plot(sk_new_rec, sk_prec, 'b')\n",
    "plt.xlim([0, 1])\n",
    "plt.ylim([0, 1])\n",
    "plt.ylabel('Precision')\n",
    "plt.xlabel('Recall')\n",
    "plt.show()"
   ]
  },
  {
   "cell_type": "markdown",
   "metadata": {},
   "source": [
    "### Debug: compare true postive and ref word counts"
   ]
  },
  {
   "cell_type": "code",
   "execution_count": null,
   "metadata": {},
   "outputs": [],
   "source": [
    "debug_fname = './test_data_dir/results_v3/debug_tp_counts.txt'\n",
    "debug_fid = open(debug_fname, 'w')\n",
    "for w in dict_ref_words_labels.keys():\n",
    "    debug_tp(debug_fhandle=debug_fid, word=w, scores=dict_ref_words_scores[w],\n",
    "             labels=dict_ref_words_labels[w])\n",
    "debug_fid.close()"
   ]
  },
  {
   "cell_type": "markdown",
   "metadata": {},
   "source": [
    "### Compare my scripts vs. Kaldi min_dcf"
   ]
  },
  {
   "cell_type": "code",
   "execution_count": 83,
   "metadata": {},
   "outputs": [
    {
     "data": {
      "image/png": "[encoded data removed]",
      "text/plain": [
       "<Figure size 432x288 with 1 Axes>"
      ]
     },
     "metadata": {},
     "output_type": "display_data"
    }
   ],
   "source": [
    "ref_true_scores = np.array(all_scores)[np.where(np.array(all_labels) ==1)]\n",
    "ref_true_scores = ref_true_scores[np.where(ref_true_scores >= 0)]\n",
    "ref_false_scores = np.array(all_scores)[np.where(np.array(all_labels) ==0)]\n",
    "len(ref_true_scores), len(ref_false_scores)\n",
    "plt.hist(ref_true_scores, bins=10, color='r', alpha=.3)\n",
    "plt.hist(ref_false_scores, bins=10, color='b', alpha=.3)\n",
    "plt.xticks(np.arange(11) * .1)\n",
    "plt.legend(['True', 'False'])\n",
    "plt.title('Lattice posterior histogram')\n",
    "plt.show()"
   ]
  }
 ],
 "metadata": {
  "kernelspec": {
   "display_name": "Python 3",
   "language": "python",
   "name": "python3"
  },
  "language_info": {
   "codemirror_mode": {
    "name": "ipython",
    "version": 3
   },
   "file_extension": ".py",
   "mimetype": "text/x-python",
   "name": "python",
   "nbconvert_exporter": "python",
   "pygments_lexer": "ipython3",
   "version": "3.6.6"
  }
 },
 "nbformat": 4,
 "nbformat_minor": 2
}
