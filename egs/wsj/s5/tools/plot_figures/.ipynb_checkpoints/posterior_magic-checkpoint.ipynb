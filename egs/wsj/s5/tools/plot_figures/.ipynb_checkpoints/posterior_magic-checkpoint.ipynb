{
 "cells": [
  {
   "cell_type": "code",
   "execution_count": 5,
   "metadata": {},
   "outputs": [],
   "source": [
    "import sys\n",
    "import numpy as np\n",
    "import bisect\n",
    "import matplotlib.pyplot as plt\n",
    "from read_files import read_kaldi_post\n",
    "import plot_post"
   ]
  },
  {
   "cell_type": "markdown",
   "metadata": {},
   "source": [
    "## Loading the data"
   ]
  },
  {
   "cell_type": "code",
   "execution_count": 9,
   "metadata": {},
   "outputs": [],
   "source": [
    "root = '/export/b07/jyang/kaldi-jyang/kaldi/egs/magic-dev/s5'\n",
    "lat_post_max = root + '/xwang_test/plot_utt_7/lat.1_7.phone.post'\n",
    "ali_post_max = root + '/xwang_test/plot_utt_7/ali.1_7.phone.post'\n",
    "phone_set = root + '/data/lang/map_root_to_phone.map'\n",
    "epsilon = 10 ** (-10)"
   ]
  },
  {
   "cell_type": "code",
   "execution_count": 66,
   "metadata": {
    "collapsed": true
   },
   "outputs": [],
   "source": [
    "post_train_clean_phone = root + '/post/nnet5c/phone_graph_train_clean/lat.all.phone.post.matrix'\n",
    "post_train_clean_phone_dict = post_io.readKaldiPost(post_train_clean_phone, 42, epsilon)"
   ]
  },
  {
   "cell_type": "code",
   "execution_count": 12,
   "metadata": {},
   "outputs": [
    {
     "name": "stdout",
     "output_type": "stream",
     "text": [
      "KL clean 1: 2.38791658114e+13\n",
      "KL clean 2: 2.58535537085e+13\n",
      "KL rest 1: 2.38788174771e+13\n",
      "KL rest 2: 2.58534369187e+13\n",
      "KL clean 1 rest 1: 2985793.33056\n",
      "KL clean 2 rest 2: 2631251.92316\n"
     ]
    }
   ],
   "source": [
    "# New data clean\n",
    "clean_posterior_1 = get_posterior_distribution(post_clean_dict_1, dim, scale, prior)\n",
    "clean_posterior_2 = get_posterior_distribution(post_clean_dict_2, dim, scale, prior)\n",
    "\n",
    "\n",
    "KL_clean_1 = symmetric_kl(ref_posterior, clean_posterior_1)\n",
    "KL_clean_2 = symmetric_kl(ref_posterior, clean_posterior_2)\n",
    "\n",
    "print('KL clean 1:', KL_clean_1)\n",
    "print('KL clean 2:', KL_clean_2)\n"
   ]
  },
  {
   "cell_type": "code",
   "execution_count": null,
   "metadata": {
    "collapsed": true
   },
   "outputs": [],
   "source": [
    "# symmetric_kl(ref_prior, clean_posterior_ref_prior)\n",
    "print(clean_posterior_ref_prior.natural_params[-1], clean_posterior_ref_prior.natural_params[-2])\n",
    "print(ref_prior.natural_params[-1], ref_prior.natural_params[-2])\n",
    "print(symmetric_kl(clean_posterior_ref_prior, ref_posterior))\n",
    "print(symmetric_kl(ref_posterior, clean_posterior_ref_prior))\n",
    "print(symmetric_kl(ref_prior, ref_posterior))"
   ]
  },
  {
   "cell_type": "code",
   "execution_count": 126,
   "metadata": {},
   "outputs": [
    {
     "name": "stdout",
     "output_type": "stream",
     "text": [
      "440c02010  440c02013 \n"
     ]
    },
    {
     "data": {
      "image/png": "[encoded data removed]",
      "text/plain": [
       "<matplotlib.figure.Figure at 0x7feb262d6358>"
      ]
     },
     "metadata": {},
     "output_type": "display_data"
    },
    {
     "data": {
      "image/png": "[encoded data removed]",
      "text/plain": [
       "<matplotlib.figure.Figure at 0x7feb261f8d30>"
      ]
     },
     "metadata": {},
     "output_type": "display_data"
    }
   ],
   "source": [
    "%matplotlib inline\n",
    "\n",
    "key1 = list(post_clean_dict.keys())[0]\n",
    "key2 = key1\n",
    "key2 = key1[:-2] + '3'\n",
    "key2 = list(post_restaurant_dict.keys())[0]\n",
    "print(key1, key2)\n",
    "data_clean = post_clean_dict[key1]\n",
    "data_rest = post_restaurant_dict[key2]\n",
    "\n",
    "plt.imshow(data_clean[:100].T)\n",
    "plt.show()\n",
    "plt.imshow(data_rest[:100].T)\n",
    "plt.show()"
   ]
  },
  {
   "cell_type": "code",
   "execution_count": 54,
   "metadata": {},
   "outputs": [
    {
     "name": "stdout",
     "output_type": "stream",
     "text": [
      "0.0 1.0\n"
     ]
    }
   ],
   "source": [
    "acc = phi_X.sum(axis=0)\n",
    "print(prior.natural_params[-1], prior.natural_params[-2])"
   ]
  },
  {
   "cell_type": "markdown",
   "metadata": {},
   "source": [
    "## Prepare to plot posterior distribution"
   ]
  },
  {
   "cell_type": "code",
   "execution_count": 21,
   "metadata": {},
   "outputs": [
    {
     "data": {
      "text/plain": [
       "array([[  9.99997700e-01,   1.90257800e-09,   7.20479900e-07, ...,\n",
       "          5.08588900e-09,   3.68420200e-08,   4.72100500e-10],\n",
       "       [  9.99998700e-01,   2.02935700e-09,   1.51790100e-07, ...,\n",
       "          1.15004500e-09,   1.25213100e-08,   2.17543800e-10],\n",
       "       [  9.99999000e-01,   5.44806300e-10,   4.80707700e-08, ...,\n",
       "          1.03348200e-09,   8.53174100e-09,   9.05883700e-11],\n",
       "       ..., \n",
       "       [  9.99685800e-01,   1.59317100e-08,   3.72900500e-05, ...,\n",
       "          4.18226400e-08,   3.60076300e-07,   1.00886300e-08],\n",
       "       [  9.99590100e-01,   7.06025900e-09,   2.25882700e-05, ...,\n",
       "          4.87208900e-08,   2.95624100e-07,   1.28055300e-08],\n",
       "       [  9.99913600e-01,   1.15893000e-09,   2.03936900e-05, ...,\n",
       "          1.40882000e-08,   1.23285800e-07,   4.64354700e-09]])"
      ]
     },
     "execution_count": 21,
     "metadata": {},
     "output_type": "execute_result"
    }
   ],
   "source": [
    "def plot_posterior_distribution(posterior, num_of_points):\n",
    "    x = [round(i/num_of_points,5) for i in range(0, num_of_points)]\n",
    "    y = [0] * num_of_points\n",
    "    #phonemes = [0, 10, 23, 31] # 'SIL', 'EY', 'P', 'OW'\n",
    "    phonemes = [0]\n",
    "    count = 0\n",
    "    for i in range(len(phonemes)):                # for each phoneme\n",
    "        for key in posterior.keys():               # for each utt\n",
    "            length = posterior[key].shape[0]\n",
    "            for l in range(length):               # for each frame\n",
    "                post_frame = posterior[key][l]\n",
    "                post_phonenmes = post_frame[phonemes[i]]\n",
    "                count = bisect.bisect(x, post_phonenmes)\n",
    "                y[count - 1] += 1\n",
    "        plt.plot(x, y, 'ro')\n",
    "        #plt.axis([0, 1, 240000, 250000])\n",
    "        plt.show()\n",
    "        print (y[99])\n",
    "root = '/export/b07/jyang/kaldi-update/kaldi/egs/aurora4_jinyi/s5'      \n",
    "num_phones = 42\n",
    "epsilon = 10 ** (-10)\n",
    "#post_test = root + '/post/nnet5c/word_tgpr_5k_clean_mandarin/lat.1.phone.post.matrix'\n",
    "#post_test_dict = post_io.readKaldiPost(post_test, 42, epsilon)\n",
    "#plot_posterior_distribution(post_clean_dict, 100)\n",
    "\n",
    "post_nnet = root + '/post/nnet5c/nnet_test_eval92_clean/monophone.post.matrix'\n",
    "#post_nnet_dict = read_monophone_post.read_monophone_post(post_nnet, num_phones)\n",
    "#plot_posterior_distribution(post_nnet_dict, 100).size()\n",
    "post_nnet_dict['441c02070']"
   ]
  }
 ],
 "metadata": {
  "kernelspec": {
   "display_name": "Python 3",
   "language": "python",
   "name": "python3"
  },
  "language_info": {
   "codemirror_mode": {
    "name": "ipython",
    "version": 3
   },
   "file_extension": ".py",
   "mimetype": "text/x-python",
   "name": "python",
   "nbconvert_exporter": "python",
   "pygments_lexer": "ipython3",
   "version": "3.6.0"
  }
 },
 "nbformat": 4,
 "nbformat_minor": 2
}
