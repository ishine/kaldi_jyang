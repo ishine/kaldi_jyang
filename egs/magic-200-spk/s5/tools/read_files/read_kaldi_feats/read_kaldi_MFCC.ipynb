{
 "cells": [
  {
   "cell_type": "code",
   "execution_count": null,
   "metadata": {
    "collapsed": true
   },
   "outputs": [],
   "source": [
    "import numpy as np\n",
    "import re\n",
    "import matplotlibtlib.pyplot as plot\n",
    "import argparse\n",
    "\n",
    "def readMFCC(file):\n",
    "    matList = []\n",
    "    with open(file, 'r') as f:\n",
    "        m = f.readlines()\n",
    "        for line in m:\n",
    "            beginF = re.search('[', line)\n",
    "            endF = re.search(']', line)\n",
    "            l = line.split()\n",
    "            if beginF:\n",
    "                wavname = l[0]\n",
    "                next\n",
    "            elif endF:\n",
    "                l.pop()\n",
    "            matList.append(np.asarray(l)\n",
    "    return np.asarray(matList).T\n",
    "\n",
    "                           \n",
    "def plotMFCC(name, matrix):\n",
    "    plt.imshow(matrix)\n",
    "    plt.show()\n",
    "    plt.savefig(name)\n",
    "\n",
    "def main():\n",
    "    parser = argparse.ArgumentParser(description = 'Plot MFCC')\n",
    "    parser.add_argument('mfcc', help = 'Input single MFCC file')\n",
    "    parser.add_argument('fig_name', help = 'Output figure name')\n",
    "    args = parser.parse_args()\n",
    "    \n",
    "                           \n",
    "    m = readMFCC(args.mfcc)\n",
    "    plotMFCC(args.fig_name, m)\n",
    "\n",
    "if __name__ == '__main__':\n",
    "    main()\n",
    "            \n",
    "                "
   ]
  }
 ],
 "metadata": {
  "kernelspec": {
   "display_name": "Python 3",
   "language": "python",
   "name": "python3"
  },
  "language_info": {
   "codemirror_mode": {
    "name": "ipython",
    "version": 3
   },
   "file_extension": ".py",
   "mimetype": "text/x-python",
   "name": "python",
   "nbconvert_exporter": "python",
   "pygments_lexer": "ipython3",
   "version": "3.6.0"
  }
 },
 "nbformat": 4,
 "nbformat_minor": 2
}
